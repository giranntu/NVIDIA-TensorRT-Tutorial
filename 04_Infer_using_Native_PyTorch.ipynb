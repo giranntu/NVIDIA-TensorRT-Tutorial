{
 "cells": [
  {
   "cell_type": "code",
   "execution_count": null,
   "metadata": {},
   "outputs": [],
   "source": [
    "import os\n",
    "import matplotlib.pyplot as plt\n",
    "import numpy as np\n",
    "from skimage.io import imread, imshow\n",
    "from skimage.transform import resize\n",
    "import torch; print('Torch Version: {}'.format(torch.__version__))\n",
    "import time\n",
    "\n",
    "from model01_PT import Net"
   ]
  },
  {
   "cell_type": "code",
   "execution_count": null,
   "metadata": {},
   "outputs": [],
   "source": [
    "# Set location of base directory\n",
    "base_path = os.path.join('/', 'workspace', 'optimization')\n",
    "\n",
    "# Set location of datasets\n",
    "datasets_path = os.path.join(base_path, 'datasets')\n",
    "images_path = os.path.join(datasets_path, 'images')\n",
    "masks_path = os.path.join(datasets_path, 'masks')\n",
    "\n",
    "# Set location of model\n",
    "weights_path = 'weights'\n",
    "weights_file_name = 'Jan_2019_99_w_rejects.pth'\n",
    "weights_file_path = os.path.join(weights_path, weights_file_name)"
   ]
  },
  {
   "cell_type": "code",
   "execution_count": null,
   "metadata": {},
   "outputs": [],
   "source": [
    "# Load the weights from a file (.pth usually)\n",
    "print('Loading weights file from:', weights_file_path)\n",
    "state_dict = torch.load(weights_file_path)"
   ]
  },
  {
   "cell_type": "code",
   "execution_count": null,
   "metadata": {},
   "outputs": [],
   "source": [
    "# Create instance of model\n",
    "model = Net()"
   ]
  },
  {
   "cell_type": "code",
   "execution_count": null,
   "metadata": {},
   "outputs": [],
   "source": [
    "# Load the weights now into a model net architecture defined by our class\n",
    "model.load_state_dict(state_dict)"
   ]
  },
  {
   "cell_type": "code",
   "execution_count": null,
   "metadata": {},
   "outputs": [],
   "source": [
    "# Set network settings\n",
    "n_channel, n_height, n_width = 1, 512, 384\n",
    "dimensions = [n_channel, n_height, n_width]\n",
    "batch_size = 1\n",
    "architecture = 'v100'  # options are 't4' (default), 'v100' and 'xavier'"
   ]
  },
  {
   "cell_type": "code",
   "execution_count": null,
   "metadata": {},
   "outputs": [],
   "source": [
    "# Load test images and masks\n",
    "images_file_names = os.listdir(images_path)\n",
    "images_file_paths = [os.path.join(images_path, f) for f in images_file_names]\n",
    "masks_file_names = os.listdir(masks_path)\n",
    "masks_file_paths = [os.path.join(masks_path, f) for f in masks_file_names]\n",
    "\n",
    "# Print first 2\n",
    "print('Images:', images_file_paths[:2])\n",
    "print('Masks:', masks_file_paths[:2])"
   ]
  },
  {
   "cell_type": "code",
   "execution_count": null,
   "metadata": {},
   "outputs": [],
   "source": [
    "# Get the jth image and mask\n",
    "j = 0\n",
    "image_file_path = images_file_paths[j]\n",
    "mask_file_path = masks_file_paths[j]\n",
    "print('Image:', image_file_path)\n",
    "print('Mask:', mask_file_path)"
   ]
  },
  {
   "cell_type": "code",
   "execution_count": null,
   "metadata": {},
   "outputs": [],
   "source": [
    "# Load image and mask\n",
    "image = imread(image_file_path)\n",
    "mask = imread(mask_file_path)\n",
    "print('Image:', image.shape, image.dtype)\n",
    "print('Mask:', mask.shape, mask.dtype)"
   ]
  },
  {
   "cell_type": "code",
   "execution_count": null,
   "metadata": {},
   "outputs": [],
   "source": [
    "# Change image dimension from 3 to 1\n",
    "image = image[:, :, 0]\n",
    "print('Image:', image.shape, image.dtype)\n",
    "print('Mask:', mask.shape, mask.dtype)"
   ]
  },
  {
   "cell_type": "code",
   "execution_count": null,
   "metadata": {},
   "outputs": [],
   "source": [
    "# Show image\n",
    "imshow(image, cmap='binary'); plt.show()"
   ]
  },
  {
   "cell_type": "code",
   "execution_count": null,
   "metadata": {},
   "outputs": [],
   "source": [
    "# Show mask\n",
    "imshow(mask, cmap='binary'); plt.show()"
   ]
  },
  {
   "cell_type": "code",
   "execution_count": null,
   "metadata": {},
   "outputs": [],
   "source": [
    "# Resize image\n",
    "image = resize(image, (n_height, n_width))\n",
    "print('Image:', image.shape, image.dtype)"
   ]
  },
  {
   "cell_type": "code",
   "execution_count": null,
   "metadata": {},
   "outputs": [],
   "source": [
    "# Add channel dimension\n",
    "image = image[np.newaxis, :, :]\n",
    "print('Image:', image.shape, image.dtype)"
   ]
  },
  {
   "cell_type": "code",
   "execution_count": null,
   "metadata": {},
   "outputs": [],
   "source": [
    "# Change type\n",
    "image = image.astype(np.float32)\n",
    "print('Image:', image.shape, image.dtype)"
   ]
  },
  {
   "cell_type": "code",
   "execution_count": null,
   "metadata": {},
   "outputs": [],
   "source": [
    "# Add batch dimension\n",
    "image = image[np.newaxis, :, :, :]\n",
    "print('Image:', image.shape, image.dtype)"
   ]
  },
  {
   "cell_type": "code",
   "execution_count": null,
   "metadata": {},
   "outputs": [],
   "source": [
    "# Repeat data along batch axis\n",
    "batch_size = 1\n",
    "image = np.repeat(image, batch_size, axis=0)\n",
    "print('Image:', image.shape, image.dtype)"
   ]
  },
  {
   "cell_type": "code",
   "execution_count": null,
   "metadata": {},
   "outputs": [],
   "source": [
    "# Create Torch Tensor and send image to GPU\n",
    "image = torch.Tensor(image)"
   ]
  },
  {
   "cell_type": "code",
   "execution_count": null,
   "metadata": {},
   "outputs": [],
   "source": [
    "# Send image to GPU\n",
    "image_gpu = image.cuda()"
   ]
  },
  {
   "cell_type": "code",
   "execution_count": null,
   "metadata": {},
   "outputs": [],
   "source": [
    "# Send model to GPU\n",
    "model_gpu = model.cuda()"
   ]
  },
  {
   "cell_type": "code",
   "execution_count": null,
   "metadata": {},
   "outputs": [],
   "source": [
    "# Perform inference on the GPU\n",
    "output_gpu = model_gpu(image_gpu)"
   ]
  },
  {
   "cell_type": "code",
   "execution_count": null,
   "metadata": {},
   "outputs": [],
   "source": [
    "# Return prediction to CPU and convert to NumPy array\n",
    "output = output_gpu.cpu().detach().numpy()"
   ]
  },
  {
   "cell_type": "code",
   "execution_count": null,
   "metadata": {},
   "outputs": [],
   "source": [
    "# Log info\n",
    "print(\"Prediction Shape: {}\".format(output.shape)) \n",
    "# print(\"Prediction: {} \".format(output))"
   ]
  },
  {
   "cell_type": "code",
   "execution_count": null,
   "metadata": {},
   "outputs": [],
   "source": [
    "# Show prediction\n",
    "if batch_size > 1:\n",
    "    imshow(np.squeeze(output[0]), cmap='binary')\n",
    "else:\n",
    "    imshow(np.squeeze(output), cmap='binary')\n",
    "plt.show()"
   ]
  },
  {
   "cell_type": "markdown",
   "metadata": {},
   "source": [
    "## Benchmarking"
   ]
  },
  {
   "cell_type": "code",
   "execution_count": null,
   "metadata": {},
   "outputs": [],
   "source": [
    "n = 2000\n",
    "start = time.time()\n",
    "for _ in range(n):\n",
    "    # Transfer input data to device\n",
    "    image_gpu = image.cuda()\n",
    "    \n",
    "    # Execute model\n",
    "    output_gpu = model_gpu(image_gpu)\n",
    "    \n",
    "    # Transfer predictions back\n",
    "    output = output_gpu.cpu()\n",
    "    \n",
    "end = time.time()"
   ]
  },
  {
   "cell_type": "code",
   "execution_count": null,
   "metadata": {},
   "outputs": [],
   "source": [
    "delta = end - start\n",
    "average_latency = delta / n\n",
    "average_throughput = batch_size * (1 / average_latency)\n",
    "print('Inference: {} seconds'.format(delta))\n",
    "print('Number of Inferences: {}'.format(n))\n",
    "print('Average Latency: {} seconds'.format(average_latency))\n",
    "print('Average Throughput w/ Batch Size {}: {} examples per second'.format(batch_size, average_throughput))"
   ]
  },
  {
   "cell_type": "code",
   "execution_count": null,
   "metadata": {},
   "outputs": [],
   "source": []
  }
 ],
 "metadata": {
  "kernelspec": {
   "display_name": "Python 3",
   "language": "python",
   "name": "python3"
  },
  "language_info": {
   "codemirror_mode": {
    "name": "ipython",
    "version": 3
   },
   "file_extension": ".py",
   "mimetype": "text/x-python",
   "name": "python",
   "nbconvert_exporter": "python",
   "pygments_lexer": "ipython3",
   "version": "3.5.2"
  }
 },
 "nbformat": 4,
 "nbformat_minor": 2
}
