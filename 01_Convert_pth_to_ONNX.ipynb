{
 "cells": [
  {
   "cell_type": "code",
   "execution_count": null,
   "metadata": {},
   "outputs": [],
   "source": [
    "import os\n",
    "import torch; print('Torch Version: {}'.format(torch.__version__))\n",
    "import torch.onnx\n",
    "\n",
    "from model01_PT import Net"
   ]
  },
  {
   "cell_type": "code",
   "execution_count": null,
   "metadata": {},
   "outputs": [],
   "source": [
    "# Create instance of model\n",
    "model = Net()"
   ]
  },
  {
   "cell_type": "code",
   "execution_count": null,
   "metadata": {},
   "outputs": [],
   "source": [
    "# Load the weights from a file (.pth usually)\n",
    "weights_path = 'weights'\n",
    "weights_file_name = 'Jan_2019_99_w_rejects.pth'\n",
    "weights_file_path = os.path.join(weights_path, weights_file_name)\n",
    "\n",
    "print('Loading weights file from:', weights_file_path)\n",
    "state_dict = torch.load(weights_file_path)"
   ]
  },
  {
   "cell_type": "code",
   "execution_count": null,
   "metadata": {},
   "outputs": [],
   "source": [
    "# Load the weights now into a model net architecture defined by our class\n",
    "model.load_state_dict(state_dict)"
   ]
  },
  {
   "cell_type": "code",
   "execution_count": null,
   "metadata": {},
   "outputs": [],
   "source": [
    "# Create the right input shape (e.g. for an image)\n",
    "sample_batch_size, channel, height, width = 1, 1, 512, 384\n",
    "dummy_input = torch.randn(sample_batch_size, channel, height, width)\n",
    "output = model(dummy_input)\n",
    "print(output.shape)  # 1, 1, 512, 384"
   ]
  },
  {
   "cell_type": "code",
   "execution_count": null,
   "metadata": {},
   "outputs": [],
   "source": [
    "# Save ONNX file\n",
    "artifacts_path = 'artifacts'\n",
    "onnx_file_name = weights_file_name.replace('pth', 'onnx')\n",
    "onnx_file_path = os.path.join(artifacts_path, onnx_file_name)\n",
    "\n",
    "print('Saving ONNX file to:', onnx_file_path)\n",
    "torch.onnx.export(model, dummy_input, onnx_file_path)"
   ]
  },
  {
   "cell_type": "code",
   "execution_count": null,
   "metadata": {},
   "outputs": [],
   "source": []
  }
 ],
 "metadata": {
  "kernelspec": {
   "display_name": "Python 3",
   "language": "python",
   "name": "python3"
  },
  "language_info": {
   "codemirror_mode": {
    "name": "ipython",
    "version": 3
   },
   "file_extension": ".py",
   "mimetype": "text/x-python",
   "name": "python",
   "nbconvert_exporter": "python",
   "pygments_lexer": "ipython3",
   "version": "3.5.2"
  }
 },
 "nbformat": 4,
 "nbformat_minor": 2
}
