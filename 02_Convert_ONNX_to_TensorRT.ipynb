{
 "cells": [
  {
   "cell_type": "code",
   "execution_count": null,
   "metadata": {},
   "outputs": [],
   "source": [
    "import os\n",
    "import tensorrt as trt; print('TensorRT Version: {}'.format(trt.__version__))"
   ]
  },
  {
   "cell_type": "code",
   "execution_count": null,
   "metadata": {},
   "outputs": [],
   "source": [
    "# Set location of model\n",
    "base_dir = os.path.join('/', 'workspace', 'optimization')\n",
    "artifacts_dir = os.path.join(base_dir, 'artifacts')\n",
    "onnx_file_name = 'model4.onnx'\n",
    "onnx_file_path = os.path.join(artifacts_dir, onnx_file_name)"
   ]
  },
  {
   "cell_type": "code",
   "execution_count": null,
   "metadata": {},
   "outputs": [],
   "source": [
    "# Set network settings\n",
    "n_channel, n_height, n_width = 3, 128, 64\n",
    "dimensions = [n_channel, n_height, n_width]\n",
    "batch_size = 1\n",
    "precision = 'fp32'  # options are 'fp16' (default), 'int8', and 'fp32'\n",
    "architecture = 'v100'  # options are 't4' (default), 'v100' and 'xavier'"
   ]
  },
  {
   "cell_type": "code",
   "execution_count": null,
   "metadata": {},
   "outputs": [],
   "source": [
    "# You can set the logger severity higher to suppress messages (or lower to display more messages).\n",
    "TRT_LOGGER = trt.Logger(trt.Logger.VERBOSE)\n",
    "\n",
    "# Create builder, network, and parser\n",
    "builder = trt.Builder(TRT_LOGGER)\n",
    "network = builder.create_network()\n",
    "parser = trt.OnnxParser(network, TRT_LOGGER)\n",
    "\n",
    "# Configure the builder here.\n",
    "builder.max_workspace_size = 2**30"
   ]
  },
  {
   "cell_type": "code",
   "execution_count": null,
   "metadata": {},
   "outputs": [],
   "source": [
    "# Parse the model to create a network.\n",
    "with open(onnx_file_path, 'rb') as model:\n",
    "    parser.parse(model.read())"
   ]
  },
  {
   "cell_type": "code",
   "execution_count": null,
   "metadata": {},
   "outputs": [],
   "source": [
    "# Set precision\n",
    "if precision == 'fp16':\n",
    "    builder.fp16_mode = True\n",
    "elif precision == 'int8':\n",
    "    builder.int8_mode = True\n",
    "\n",
    "# Set batch size\n",
    "# builder.max_batch_size = batch_size"
   ]
  },
  {
   "cell_type": "code",
   "execution_count": null,
   "metadata": {},
   "outputs": [],
   "source": [
    "# Build and return the engine. Note that the builder, network and parser are destroyed when this function returns.\n",
    "engine = builder.build_cuda_engine(network)"
   ]
  },
  {
   "cell_type": "code",
   "execution_count": null,
   "metadata": {},
   "outputs": [],
   "source": [
    "# Create engine file name\n",
    "engine_file_name = onnx_file_name.replace('.onnx', '') + '_{}_b{}_{}.engine'\n",
    "engine_file_name = engine_file_name.format(architecture, batch_size, precision)\n",
    "engine_file_path = os.path.join(artifacts_dir, engine_file_name)"
   ]
  },
  {
   "cell_type": "code",
   "execution_count": null,
   "metadata": {},
   "outputs": [],
   "source": [
    "# Save engine file\n",
    "with open(engine_file_path, 'wb') as file:\n",
    "    print('Saving engine file to:', engine_file_path)\n",
    "    file.write(engine.serialize())"
   ]
  },
  {
   "cell_type": "code",
   "execution_count": null,
   "metadata": {},
   "outputs": [],
   "source": []
  }
 ],
 "metadata": {
  "kernelspec": {
   "display_name": "Python 3",
   "language": "python",
   "name": "python3"
  },
  "language_info": {
   "codemirror_mode": {
    "name": "ipython",
    "version": 3
   },
   "file_extension": ".py",
   "mimetype": "text/x-python",
   "name": "python",
   "nbconvert_exporter": "python",
   "pygments_lexer": "ipython3",
   "version": "3.5.2"
  }
 },
 "nbformat": 4,
 "nbformat_minor": 2
}
